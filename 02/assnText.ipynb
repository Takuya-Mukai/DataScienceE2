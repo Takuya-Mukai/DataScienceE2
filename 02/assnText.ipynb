{
 "cells": [
  {
   "cell_type": "markdown",
   "id": "e7f44055",
   "metadata": {},
   "source": [
    "# Assignment 02:  Python basics\n",
    "\n",
    "The purpose of this assignment is learn the fundamentals of Python programming, including:\n",
    "\n",
    "1. Basic math\n",
    "1. Variables\n",
    "1. Lists, tuples and arrays\n",
    "1. Packages: `math` and `numpy`\n",
    "1. Functions\n"
   ]
  },
  {
   "cell_type": "markdown",
   "id": "91e75411",
   "metadata": {},
   "source": [
    "___\n",
    "\n",
    "### Example problem\n",
    "\n",
    "Q. Use Python to calculate and print the result of:\n",
    "\n",
    "<br>\n",
    "\n",
    "<center>$\\begin{eqnarray*}\n",
    "    4 \\times 5\n",
    "\\end{eqnarray*}$</center>\n",
    "\n",
    "### Answer to example problem:"
   ]
  },
  {
   "cell_type": "code",
   "execution_count": null,
   "id": "94dcad9f",
   "metadata": {},
   "outputs": [],
   "source": [
    "print( 4 * 5 )"
   ]
  },
  {
   "cell_type": "markdown",
   "id": "bb356528",
   "metadata": {},
   "source": [
    "___\n",
    "\n",
    "# (1)  Basic math"
   ]
  },
  {
   "cell_type": "markdown",
   "id": "97f8703b",
   "metadata": {},
   "source": [
    "Q. Use Python to calculate and print the result of:\n",
    "\n",
    "<br>\n",
    "\n",
    "<center>$\\begin{eqnarray*}\n",
    "    (3 + 1) \\times 2\n",
    "\\end{eqnarray*}$</center>"
   ]
  },
  {
   "cell_type": "code",
   "execution_count": null,
   "id": "2d8d3423",
   "metadata": {},
   "outputs": [],
   "source": [
    "print((3 + 1) * 2)"
   ]
  },
  {
   "cell_type": "markdown",
   "id": "06403d37",
   "metadata": {},
   "source": [
    "Q. Use Python to calculate and print the result of:\n",
    "\n",
    "<br>\n",
    "\n",
    "<center>$\\begin{eqnarray*}\n",
    "    (4 + 6) ^ 2\n",
    "\\end{eqnarray*}$</center>"
   ]
  },
  {
   "cell_type": "code",
   "execution_count": null,
   "id": "ba4e9547",
   "metadata": {},
   "outputs": [],
   "source": [
    "print((4 + 6) ^ 2)"
   ]
  },
  {
   "cell_type": "markdown",
   "id": "62451d56",
   "metadata": {},
   "source": [
    "Q. Use Python to calculate and print the result of:\n",
    "\n",
    "<br>\n",
    "\n",
    "<center>$\\begin{eqnarray*}\n",
    "    \\frac{ (3 + 1) \\times 2 }{ (4 + 6) ^ 2 }\n",
    "\\end{eqnarray*}$</center>"
   ]
  },
  {
   "cell_type": "code",
   "execution_count": null,
   "id": "64007790",
   "metadata": {
    "lines_to_next_cell": 0
   },
   "outputs": [],
   "source": [
    "print((3+1)*2 / (4+6)**2)"
   ]
  },
  {
   "cell_type": "markdown",
   "id": "f9df1372",
   "metadata": {},
   "source": [
    "___\n",
    "\n",
    "# (2)  Variables"
   ]
  },
  {
   "cell_type": "markdown",
   "id": "2b6c5be1",
   "metadata": {},
   "source": [
    "Q. Use Python to calculate then print the value of `y`.\n",
    "\n",
    "<br>\n",
    "\n",
    "<center>$\\begin{eqnarray*}\n",
    "    x &=& 5 \\\\\n",
    "    y &=& (x^2 + 1)\n",
    "\\end{eqnarray*}$</center>"
   ]
  },
  {
   "cell_type": "code",
   "execution_count": null,
   "id": "7c55a33b",
   "metadata": {},
   "outputs": [],
   "source": [
    "x = 5\n",
    "y = (x**2 + 1)\n",
    "print(y)\n",
    "\n"
   ]
  },
  {
   "cell_type": "markdown",
   "id": "09bcaa46",
   "metadata": {},
   "source": [
    "Q. Use Python to calculate then print the value of `y`.\n",
    "\n",
    "<br>\n",
    "\n",
    "<center>$\\begin{eqnarray*}\n",
    "    a &=& 5 \\\\\n",
    "    b &=& 10 \\\\\n",
    "    c &=& 20 \\\\\n",
    "    x &=& -1 \\\\\n",
    "    y &=& (ax^2 + bx + c)\n",
    "\\end{eqnarray*}$</center>"
   ]
  },
  {
   "cell_type": "code",
   "execution_count": 2,
   "id": "3516a1cd-9140-4beb-997d-bbce4c857e03",
   "metadata": {},
   "outputs": [
    {
     "name": "stdout",
     "output_type": "stream",
     "text": [
      "15\n"
     ]
    }
   ],
   "source": [
    "a = 5\n",
    "b = 10\n",
    "c = 20\n",
    "x = -1\n",
    "y = (a*x**2 + b*x + c)\n",
    "print(y)"
   ]
  },
  {
   "cell_type": "markdown",
   "id": "3fe6d99d",
   "metadata": {},
   "source": [
    "Q. Use Python to calculate then print the value of `y`.\n",
    "\n",
    "<br>\n",
    "\n",
    "<center>$\\begin{eqnarray*}\n",
    "    x_0 &=& 50 \\\\\n",
    "    x_1 &=& 3 x_0 - 50\\\\\n",
    "    y &=& \\left(\\frac{x_0}{x_1}\\right)^2\n",
    "\\end{eqnarray*}$</center>"
   ]
  },
  {
   "cell_type": "code",
   "execution_count": null,
   "id": "e19bad93-e401-44f3-980f-3b073d955c2d",
   "metadata": {},
   "outputs": [],
   "source": [
    "x0 = 50\n",
    "x1 = 3*x0 - 50\n",
    "y = (x0/x1)**2\n",
    "print(y)"
   ]
  },
  {
   "cell_type": "markdown",
   "id": "f0d92b9a",
   "metadata": {},
   "source": [
    "___\n",
    "\n",
    "# (3) Lists and tuples"
   ]
  },
  {
   "cell_type": "markdown",
   "id": "fefc8e14",
   "metadata": {},
   "source": [
    "Q. Use Python to construct `x` as a **list**, then print its **second** value.\n",
    "\n",
    "<br>\n",
    "\n",
    "<center>$\\begin{eqnarray*}\n",
    "    x &=& \\begin{bmatrix}10 & 8 & 20 & 6 & 30\\end{bmatrix}\n",
    "\\end{eqnarray*}$</center>"
   ]
  },
  {
   "cell_type": "code",
   "execution_count": null,
   "id": "5850e437-c7fc-4c12-809a-dc76c21a973b",
   "metadata": {},
   "outputs": [],
   "source": [
    "x = [10, 8, 6, 30]\n",
    "print(x[1])"
   ]
  },
  {
   "cell_type": "markdown",
   "id": "96428051",
   "metadata": {},
   "source": [
    "Q. Use Python to construct `x` as a **tuple**, then print its **last** value.\n",
    "\n",
    "<br>\n",
    "\n",
    "<center>$\\begin{eqnarray*}\n",
    "    x &=& \\begin{pmatrix}5 & 2 & 1\\end{pmatrix}\n",
    "\\end{eqnarray*}$</center>"
   ]
  },
  {
   "cell_type": "code",
   "execution_count": null,
   "id": "901b48b5-9074-45a7-b10c-1e1078cf4949",
   "metadata": {},
   "outputs": [],
   "source": [
    "x = (5, 2, 1)\n",
    "print(x[-1])"
   ]
  },
  {
   "cell_type": "markdown",
   "id": "981c9400",
   "metadata": {},
   "source": [
    "Q. Use Python to construct `x` as a **list** of **tuples**, then print the **last** tuple.\n",
    "\n",
    "<br>\n",
    "\n",
    "<center>$\\begin{eqnarray*}\n",
    "    x &=& \\begin{bmatrix}\\begin{pmatrix}5 & 2 & 1\\end{pmatrix}, \\begin{pmatrix}1 & 3 & 3\\end{pmatrix}, \\begin{pmatrix}0 & -1 & -2\\end{pmatrix}\\end{bmatrix}\n",
    "\\end{eqnarray*}$</center>"
   ]
  },
  {
   "cell_type": "code",
   "execution_count": null,
   "id": "097af7ee-9273-424b-a1f3-c9b0f5ec68af",
   "metadata": {},
   "outputs": [],
   "source": [
    "x = [(5, 2, 1), (1, 3, 3), (0, -1, -2)]\n",
    "print(x[-1])"
   ]
  },
  {
   "cell_type": "markdown",
   "id": "0c408c1f",
   "metadata": {},
   "source": [
    "Q. Use Python to create an empty list `x`, then use three `append` commands to create and print the following list. \n",
    "\n",
    "**NOTE!**: your Python code should have **five** commands including three `append` commands and one `print` command.\n",
    "\n",
    "<br>\n",
    "\n",
    "<center>$\\begin{eqnarray*}\n",
    "    x &=& \\begin{bmatrix}5 & \\begin{pmatrix}1 & 2\\end{pmatrix}  & \\begin{bmatrix}4 & 5 & 6\\end{bmatrix}\\end{bmatrix}\n",
    "\\end{eqnarray*}$</center>"
   ]
  },
  {
   "cell_type": "code",
   "execution_count": null,
   "id": "f52815d0-5fdf-4e55-9815-5d2de287c33d",
   "metadata": {},
   "outputs": [],
   "source": [
    "x = []\n",
    "x.append(5)\n",
    "x.append((1, 2))\n",
    "x.append([4, 5, 6])"
   ]
  },
  {
   "cell_type": "markdown",
   "id": "c2b65a56",
   "metadata": {},
   "source": [
    "___\n",
    "\n",
    "# (4) Packages: math and numpy\n",
    "\n",
    "### `math`"
   ]
  },
  {
   "cell_type": "markdown",
   "id": "ff914a87",
   "metadata": {},
   "source": [
    "Q. Use the `math` package to calculate `x`. Print the result.\n",
    "\n",
    "<br>\n",
    "\n",
    "<center>$\\begin{eqnarray*}\n",
    "    x &=& \\sin(\\pi/2) - \\cos(\\pi) \n",
    "\\end{eqnarray*}$</center>"
   ]
  },
  {
   "cell_type": "code",
   "execution_count": 7,
   "id": "349a2a6f-5033-40e7-85ab-0db069086dea",
   "metadata": {},
   "outputs": [
    {
     "name": "stdout",
     "output_type": "stream",
     "text": [
      "2.0\n"
     ]
    }
   ],
   "source": [
    "import math\n",
    "x = math.sin(math.pi/2)-math.cos(math.pi)\n",
    "print(x)"
   ]
  },
  {
   "cell_type": "markdown",
   "id": "bdb04207",
   "metadata": {},
   "source": [
    "Q. Use the `math` package to calculate `y`. Print the result.\n",
    "\n",
    "<br>\n",
    "\n",
    "<center>$\\begin{eqnarray*}\n",
    "    x_0 &=& 3\\\\\n",
    "    x_1 &=& 4\\\\\n",
    "    y &=& \\sqrt{x_0^2 + x_1^2}\n",
    "\\end{eqnarray*}$</center>"
   ]
  },
  {
   "cell_type": "code",
   "execution_count": 8,
   "id": "32666600-cfbc-4cfc-85df-56b50cf1ebea",
   "metadata": {},
   "outputs": [
    {
     "name": "stdout",
     "output_type": "stream",
     "text": [
      "5.0\n"
     ]
    }
   ],
   "source": [
    "x0 = 3\n",
    "x1 = 4\n",
    "y = math.sqrt(x0**2 + x1**2)\n",
    "print(y)"
   ]
  },
  {
   "cell_type": "markdown",
   "id": "7a30b22e",
   "metadata": {},
   "source": [
    "Q. Use the `math` package to calculate `x`. Print the result.\n",
    "\n",
    "<br>\n",
    "\n",
    "<center>$\\begin{eqnarray*}\n",
    "    x &=& e ^ {\\log(10) }\n",
    "\\end{eqnarray*}$</center>"
   ]
  },
  {
   "cell_type": "code",
   "execution_count": 12,
   "id": "941127d7-8261-4a9c-be05-765f2e991b08",
   "metadata": {},
   "outputs": [
    {
     "name": "stdout",
     "output_type": "stream",
     "text": [
      "10.000000000000002\n"
     ]
    }
   ],
   "source": [
    "x = math.exp(math.log(10))\n",
    "print(x)"
   ]
  },
  {
   "cell_type": "markdown",
   "id": "2fbacc6e",
   "metadata": {},
   "source": [
    "### `numpy`"
   ]
  },
  {
   "cell_type": "markdown",
   "id": "c51890c7",
   "metadata": {},
   "source": [
    "Q.  Use the `numpy` package to construct the following 1D array. Print the result.\n",
    "\n",
    "<br>\n",
    "\n",
    "<center>$\\begin{eqnarray*}\n",
    "    x &=& \\begin{bmatrix}5 & 2 & 1\\end{bmatrix}\n",
    "\\end{eqnarray*}$</center>"
   ]
  },
  {
   "cell_type": "code",
   "execution_count": 13,
   "id": "8b394ad5-10b0-4161-9de5-297ba39366d8",
   "metadata": {},
   "outputs": [
    {
     "name": "stdout",
     "output_type": "stream",
     "text": [
      "[5 2 1]\n"
     ]
    }
   ],
   "source": [
    "import numpy as np\n",
    "x = np.array([5, 2, 1])\n",
    "print(x)"
   ]
  },
  {
   "cell_type": "markdown",
   "id": "e6a8b4d9",
   "metadata": {},
   "source": [
    "Q.  Use the `numpy` package to construct the following 2D array. Print the result.\n",
    "\n",
    "<br>\n",
    "\n",
    "<center>$\\begin{eqnarray*}\n",
    "    x &=& \\begin{bmatrix}5 & 2 & 1\\\\ 1 & 3 & 3\\\\ 0 & -1 & -2\\end{bmatrix}\n",
    "\\end{eqnarray*}$</center>"
   ]
  },
  {
   "cell_type": "code",
   "execution_count": 17,
   "id": "4a3510d2-d5f8-42a1-aee5-3af9c13c6ef4",
   "metadata": {},
   "outputs": [
    {
     "name": "stdout",
     "output_type": "stream",
     "text": [
      "[[ 5  2  1]\n",
      " [ 1  3  3]\n",
      " [ 0 -1 -2]]\n"
     ]
    }
   ],
   "source": [
    "x = np.array([[5, 2, 1], [1, 3, 3], [0, -1, -2]])\n",
    "print(x)"
   ]
  },
  {
   "cell_type": "markdown",
   "id": "bb9ab2b0",
   "metadata": {},
   "source": [
    "Q. Use the `numpy` package to compute `x`. Print the result.\n",
    "\n",
    "<br>\n",
    "\n",
    "<center>$\\begin{eqnarray*}\n",
    "    x &=& \\begin{bmatrix}5\\\\2\\\\1\\end{bmatrix} + 1\n",
    "\\end{eqnarray*}$</center>"
   ]
  },
  {
   "cell_type": "code",
   "execution_count": 22,
   "id": "62d3687b-f7ed-4bf9-8681-93d793189df2",
   "metadata": {},
   "outputs": [
    {
     "name": "stdout",
     "output_type": "stream",
     "text": [
      "[6 3 2]\n"
     ]
    }
   ],
   "source": [
    "x = np.array([5, 2, 1]).transpose() + 1\n",
    "print(x)"
   ]
  },
  {
   "cell_type": "markdown",
   "id": "9b7062e4",
   "metadata": {},
   "source": [
    "Q. Use the `numpy` package to compute `x`. Print the result.\n",
    "\n",
    "<br>\n",
    "\n",
    "<center>$\\begin{eqnarray*}\n",
    "    x &=& \\begin{bmatrix}5\\\\2\\\\1\\end{bmatrix} + \\begin{bmatrix}3\\\\-4\\\\8\\end{bmatrix}\n",
    "\\end{eqnarray*}$</center>"
   ]
  },
  {
   "cell_type": "code",
   "execution_count": 25,
   "id": "21bfd0b8-9bb4-46a3-a23c-176b62b16051",
   "metadata": {},
   "outputs": [
    {
     "name": "stdout",
     "output_type": "stream",
     "text": [
      "[ 8 -2  9]\n"
     ]
    }
   ],
   "source": [
    "x = np.array([5, 2, 1]).transpose() + np.array([3, -4, 8]).transpose()\n",
    "print(x)"
   ]
  },
  {
   "cell_type": "markdown",
   "id": "31494980",
   "metadata": {},
   "source": [
    "___\n",
    "\n",
    "# (5) Functions"
   ]
  },
  {
   "cell_type": "markdown",
   "id": "730bb54d",
   "metadata": {},
   "source": [
    "Q. Create a function called `myfunction` that calculates $f(x)$. Use this function to calculate $f(x)$ for $x=5$. Print the result.\n",
    "\n",
    "<br>\n",
    "\n",
    "<center>$\\begin{eqnarray*}\n",
    "    f(x) &=& 2(x - 1) + 5\n",
    "\\end{eqnarray*}$</center>"
   ]
  },
  {
   "cell_type": "code",
   "execution_count": null,
   "id": "b1ec61cf-205d-4274-a37d-54ed0867bd4e",
   "metadata": {},
   "outputs": [],
   "source": [
    "def f(x):\n",
    "    return 2*(x-1)+5\n",
    "\n",
    "\n",
    "print(f(5))"
   ]
  },
  {
   "cell_type": "markdown",
   "id": "72d08543",
   "metadata": {},
   "source": [
    "Q. Create a function called `two_argument_function` that calculates $f(a, b)$. Use this function to calculate $f(a, b)$ for $a=3$ and $b=2$. Print the result.\n",
    "\n",
    "<br>\n",
    "\n",
    "<center>$\\begin{eqnarray*}\n",
    "    f(a, b) &=& b^a + 1\n",
    "\\end{eqnarray*}$</center>"
   ]
  },
  {
   "cell_type": "code",
   "execution_count": null,
   "id": "dccc7511-02f3-4670-bd01-693542609383",
   "metadata": {},
   "outputs": [],
   "source": [
    "def f(a, b):\n",
    "    return b**a+1\n",
    "\n",
    "\n",
    "print(f(3, 2))"
   ]
  },
  {
   "cell_type": "markdown",
   "id": "ad6fe8bd",
   "metadata": {},
   "source": [
    "Q. Create a function called `add_vectors` that calculates $f(\\boldsymbol{x}_0, \\boldsymbol{x}_1)$. Use this function to calculate $f(\\boldsymbol{x}_0, \\boldsymbol{x}_1)$ for $\\boldsymbol{x}_0=\\begin{bmatrix}5\\\\2\\\\1\\end{bmatrix}$ and $\\boldsymbol{x}_1=\\begin{bmatrix}1\\\\2\\\\10\\end{bmatrix}$. Print the result.\n",
    "\n",
    "<br>\n",
    "\n",
    "<center>$\\begin{eqnarray*}\n",
    "    f(\\boldsymbol{x}_0, \\boldsymbol{x}_1) &=&  \\boldsymbol{x}_0 + \\boldsymbol{x}_1\n",
    "\\end{eqnarray*}$</center>"
   ]
  },
  {
   "cell_type": "code",
   "execution_count": null,
   "id": "0ff241be-fdd9-4280-a0f7-4e7b5a9168ea",
   "metadata": {},
   "outputs": [],
   "source": [
    "def f(x0, x1):\n",
    "    return x0 + x1\n",
    "\n",
    "\n",
    "print(f(np.array([5, 2, 1]).transpose(), np.array([1, 2, 10]).transpose()))"
   ]
  },
  {
   "cell_type": "markdown",
   "id": "e6790609",
   "metadata": {},
   "source": [
    "Q. Create a Python function that represent the following mathematical function:\n",
    "\n",
    "<br> \n",
    "\n",
    "<center>$\\begin{eqnarray*}\n",
    "    f(\\boldsymbol{a}, b, c) &=& b\\boldsymbol{a} + \\begin{bmatrix}0\\\\c\\\\0\\end{bmatrix}\n",
    "\\end{eqnarray*}$</center>\n",
    "\n",
    "<br> \n",
    "\n",
    "Note that $\\boldsymbol{a}$ is a vector, and that $b$ and $c$ are scalars.\n",
    "\n",
    "<br>\n",
    "\n",
    "Use the function you created to calculate $f(\\boldsymbol{a},b,c)$ for: $\\boldsymbol{a} = \\begin{bmatrix}1\\\\0\\\\2\\end{bmatrix}$, $b=5$ and $c$=10.\n",
    "\n",
    "Print your solution.\n",
    "\n",
    "<br> \n",
    "\n"
   ]
  },
  {
   "cell_type": "code",
   "execution_count": 24,
   "id": "78e9408c-1d27-49e0-9111-d0f6eb0fcfca",
   "metadata": {},
   "outputs": [
    {
     "name": "stdout",
     "output_type": "stream",
     "text": [
      "[ 5 10 10]\n"
     ]
    }
   ],
   "source": [
    "def f(a, b, c):\n",
    "    return b*a+np.array([0, c, 0]).transpose()\n",
    "\n",
    "a = np.array([1, 0, 2]).transpose()\n",
    "print(f(a, 5, 10))"
   ]
  }
 ],
 "metadata": {
  "kernelspec": {
   "display_name": "Python 3 (ipykernel)",
   "language": "python",
   "name": "python3"
  },
  "language_info": {
   "codemirror_mode": {
    "name": "ipython",
    "version": 3
   },
   "file_extension": ".py",
   "mimetype": "text/x-python",
   "name": "python",
   "nbconvert_exporter": "python",
   "pygments_lexer": "ipython3",
   "version": "3.13.7"
  }
 },
 "nbformat": 4,
 "nbformat_minor": 5
}
